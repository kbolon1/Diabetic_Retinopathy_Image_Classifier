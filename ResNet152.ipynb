{
 "cells": [
  {
   "cell_type": "code",
   "execution_count": null,
   "metadata": {
    "id": "1NJ1RNqhOOQ0"
   },
   "outputs": [],
   "source": [
    "from numpy import expand_dims\n",
    "import matplotlib.pyplot as plt\n",
    "import pandas as pd\n",
    "import seaborn as sns\n",
    "import glob\n",
    "import shutil\n",
    "from PIL import Image\n",
    "import zipfile\n",
    "import os\n",
    "import io\n",
    "\n",
    "from keras.callbacks import ModelCheckpoint\n",
    "from tensorflow import keras\n",
    "from tensorflow.keras.models import Sequential\n",
    "from tensorflow.keras.layers import Conv2D, Dense, MaxPooling2D, Activation, Flatten, Dropout, BatchNormalization\n",
    "from tensorflow.keras import models, layers\n",
    "from tensorflow.keras.optimizers import Adam\n",
    "from tensorflow.keras.utils import to_categorical\n",
    "from tensorflow.keras.preprocessing.image import load_img\n",
    "from keras.applications.vgg19 import VGG19, preprocess_input\n",
    "from keras.preprocessing.image import img_to_array\n",
    "from keras.preprocessing.image import ImageDataGenerator\n",
    "from tensorflow.keras import preprocessing\n",
    "from tensorflow.keras.preprocessing import image # Keras own inbuild image class\n",
    "from tensorflow.keras.applications import mobilenet_v2\n",
    "from keras import backend as K\n",
    "from keras.callbacks import Callback"
   ]
  },
  {
   "cell_type": "markdown",
   "metadata": {
    "id": "5r4o2VDyW1so"
   },
   "source": [
    "Upload dataset to Google Colab"
   ]
  },
  {
   "cell_type": "code",
   "execution_count": null,
   "metadata": {
    "colab": {
     "base_uri": "https://localhost:8080/"
    },
    "id": "tY6_HCn8OvI4",
    "outputId": "20d4f412-0fd9-4d39-ad91-2d8a2d8cec51"
   },
   "outputs": [
    {
     "name": "stdout",
     "output_type": "stream",
     "text": [
      "Mounted at /content/drive\n"
     ]
    }
   ],
   "source": [
    "from google.colab import drive\n",
    "drive.mount('/content/drive')"
   ]
  },
  {
   "cell_type": "markdown",
   "metadata": {
    "id": "k700TKU_W94y"
   },
   "source": [
    "Unzip the file"
   ]
  },
  {
   "cell_type": "code",
   "execution_count": null,
   "metadata": {
    "id": "9DS2b7WzPcFE"
   },
   "outputs": [],
   "source": [
    "zip_ref = zipfile.ZipFile('/content/drive/MyDrive/Spiced_Project/oversampling.zip', 'r') #Opens the zip file in read mode\n",
    "zip_ref.extractall('/tmp') #Extracts the files into the /tmp folder\n",
    "zip_ref.close()"
   ]
  },
  {
   "cell_type": "markdown",
   "metadata": {
    "id": "3QdjH8uDvjsp"
   },
   "source": [
    "# ResNet152 Model"
   ]
  },
  {
   "cell_type": "code",
   "execution_count": null,
   "metadata": {
    "id": "mH7MNT20m8bZ"
   },
   "outputs": [],
   "source": [
    "classes = ['normal','diabetic', 'glaucoma', 'hypertensive', 'myopia', 'cataract']\n",
    "base_path = '/tmp/oversampling/'"
   ]
  },
  {
   "cell_type": "code",
   "execution_count": null,
   "metadata": {
    "id": "DEJ3XTUwniXF"
   },
   "outputs": [],
   "source": [
    "# define an image data generator\n",
    "data_gen = preprocessing.image.ImageDataGenerator(\n",
    "    # define the preprocessing function that should be applied to all images\n",
    "    preprocessing_function=keras.applications.resnet.preprocess_input,\n",
    "    #rescale=1/255,   \n",
    ")"
   ]
  },
  {
   "cell_type": "code",
   "execution_count": null,
   "metadata": {
    "colab": {
     "base_uri": "https://localhost:8080/"
    },
    "id": "BIyksDD_nx_6",
    "outputId": "64dbc45f-cc3e-4fcf-dd8a-3c87def5135e"
   },
   "outputs": [
    {
     "name": "stdout",
     "output_type": "stream",
     "text": [
      "Found 3000 images belonging to 6 classes.\n"
     ]
    }
   ],
   "source": [
    "# a generator that returns batches of X and y arrays\n",
    "train_data_gen = data_gen.flow_from_directory(\n",
    "        directory=base_path,\n",
    "        class_mode=\"categorical\",\n",
    "        classes=classes,\n",
    "        batch_size=3000,  ## note: it's really images: 100 per category. this is mostly only working for models with transfer learning\n",
    "        target_size=(224, 224)\n",
    ")"
   ]
  },
  {
   "cell_type": "code",
   "execution_count": null,
   "metadata": {
    "colab": {
     "base_uri": "https://localhost:8080/"
    },
    "id": "cf5RIVZZn0dG",
    "outputId": "2bf613da-4cf2-47f4-af77-8ece7473dff2"
   },
   "outputs": [
    {
     "data": {
      "text/plain": [
       "((3000, 224, 224, 3), (3000, 6))"
      ]
     },
     "execution_count": 8,
     "metadata": {},
     "output_type": "execute_result"
    }
   ],
   "source": [
    "# load in all images at once\n",
    "xtrain, ytrain = next(train_data_gen)\n",
    "xtrain.shape, ytrain.shape"
   ]
  },
  {
   "cell_type": "code",
   "execution_count": null,
   "metadata": {
    "colab": {
     "base_uri": "https://localhost:8080/"
    },
    "id": "qS40hZDqqdeD",
    "outputId": "8456f94b-c275-467c-8c7d-6431f4c7d409"
   },
   "outputs": [
    {
     "data": {
      "text/plain": [
       "['normal', 'diabetic', 'glaucoma', 'hypertensive', 'myopia', 'cataract']"
      ]
     },
     "execution_count": 9,
     "metadata": {},
     "output_type": "execute_result"
    }
   ],
   "source": [
    "\n",
    "classes"
   ]
  },
  {
   "cell_type": "code",
   "execution_count": null,
   "metadata": {
    "colab": {
     "base_uri": "https://localhost:8080/"
    },
    "id": "hkFA0baekrNf",
    "outputId": "fcb9f416-3a02-474f-aeff-2e9a6ed9c6ea"
   },
   "outputs": [
    {
     "data": {
      "text/plain": [
       "(3000, 6)"
      ]
     },
     "execution_count": 10,
     "metadata": {},
     "output_type": "execute_result"
    }
   ],
   "source": [
    "ytrain.shape"
   ]
  },
  {
   "cell_type": "markdown",
   "metadata": {
    "id": "pieAlooXq-31"
   },
   "source": [
    "# ResNet152 Model"
   ]
  },
  {
   "cell_type": "code",
   "execution_count": null,
   "metadata": {
    "id": "3NCVo5Ec9Zm-"
   },
   "outputs": [],
   "source": [
    "K.clear_session()"
   ]
  },
  {
   "cell_type": "code",
   "execution_count": null,
   "metadata": {
    "id": "Onh9y5Qeqihc"
   },
   "outputs": [],
   "source": [
    "resnet_model = Sequential()\n",
    "\n",
    "pretrained_model=keras.applications.ResNet152(\n",
    "      include_top=False,\n",
    "      weights=None,\n",
    "      input_tensor=None,\n",
    "      input_shape=(224, 224, 3),\n",
    "      pooling='max',\n",
    "      classes=6,\n",
    "      classifier_activation='softmax',\n",
    "  )\n",
    "\n",
    "for layer in pretrained_model.layers:\n",
    "        layer.trainable=False\n",
    "\n",
    "resnet_model.add(pretrained_model)\n",
    " "
   ]
  },
  {
   "cell_type": "code",
   "execution_count": null,
   "metadata": {
    "id": "d3ah_UYaOR2h"
   },
   "outputs": [],
   "source": [
    "#resnet_model.add(Flatten())\n",
    "resnet_model.add(Dense(1024, activation='relu'))\n",
    "resnet_model.add(Dense(512, activation='relu'))\n",
    "resnet_model.add(Dense(128, activation='relu'))\n",
    "resnet_model.add(Dense(32, activation='relu'))\n",
    "resnet_model.add(Dense(6, activation='softmax'))"
   ]
  },
  {
   "cell_type": "markdown",
   "metadata": {
    "id": "HYgudyr0bumW"
   },
   "source": [
    "# Model Summary"
   ]
  },
  {
   "cell_type": "code",
   "execution_count": null,
   "metadata": {
    "colab": {
     "base_uri": "https://localhost:8080/"
    },
    "id": "xPuBvzZXrLQ9",
    "outputId": "3a97143b-29d6-443e-b22b-a3ba052603cc"
   },
   "outputs": [
    {
     "name": "stdout",
     "output_type": "stream",
     "text": [
      "Model: \"sequential\"\n",
      "_________________________________________________________________\n",
      " Layer (type)                Output Shape              Param #   \n",
      "=================================================================\n",
      " resnet152 (Functional)      (None, 2048)              58370944  \n",
      "                                                                 \n",
      " dense (Dense)               (None, 1024)              2098176   \n",
      "                                                                 \n",
      " dense_2 (Dense)             (None, 1024)              1049600   \n",
      "                                                                 \n",
      " dense_3 (Dense)             (None, 512)               524800    \n",
      "                                                                 \n",
      " dense_4 (Dense)             (None, 128)               65664     \n",
      "                                                                 \n",
      " dense_5 (Dense)             (None, 32)                4128      \n",
      "                                                                 \n",
      " dense_6 (Dense)             (None, 6)                 198       \n",
      "                                                                 \n",
      "=================================================================\n",
      "Total params: 62,113,510\n",
      "Trainable params: 3,742,566\n",
      "Non-trainable params: 58,370,944\n",
      "_________________________________________________________________\n"
     ]
    }
   ],
   "source": [
    "# Check the summary:\n",
    "resnet_model.summary()"
   ]
  },
  {
   "cell_type": "markdown",
   "metadata": {
    "id": "I66yE7M5b0gI"
   },
   "source": [
    "# Run the Model"
   ]
  },
  {
   "cell_type": "code",
   "execution_count": null,
   "metadata": {
    "id": "Q1cPcpJnrNeM"
   },
   "outputs": [],
   "source": [
    "# Compile the model\n",
    "#opt = keras.optimizers.Adam(learning_rate=0.01)\n",
    "resnet_model.compile(optimizer='Adam', loss = 'categorical_crossentropy', metrics=['accuracy'])#opt)"
   ]
  },
  {
   "cell_type": "code",
   "execution_count": null,
   "metadata": {
    "id": "mkScVh2yreCk"
   },
   "outputs": [],
   "source": [
    "checkpoint = ModelCheckpoint(\"best_model_ResNet152.hdf5\", monitor='loss', verbose=1,\n",
    "    save_best_only=True, mode='auto', save_freq=1)"
   ]
  },
  {
   "cell_type": "code",
   "execution_count": null,
   "metadata": {
    "id": "PHqTTF6lruFQ"
   },
   "outputs": [],
   "source": [
    "# Early stopping:\n",
    "early_stop = keras.callbacks.EarlyStopping(\n",
    "    monitor='val_accuracy', #the thing we are monitoring\n",
    "    min_delta=0.0005, #the minimum change in the quantity that we want for the model to train for another epoch\n",
    "    patience=30, #number of epochs with no improvement needed for the model to stop\n",
    "    verbose=1, #0 is silent, 1 means a message is displayed when something happens\n",
    "    mode='auto'  \n",
    ")"
   ]
  },
  {
   "cell_type": "code",
   "execution_count": null,
   "metadata": {
    "colab": {
     "base_uri": "https://localhost:8080/"
    },
    "id": "qb0v_Bdkr4l9",
    "outputId": "36715fa2-146d-4c3c-c6c1-69eacf5efa86"
   },
   "outputs": [
    {
     "name": "stdout",
     "output_type": "stream",
     "text": [
      "Epoch 1/200\n",
      "60/60 [==============================] - 43s 409ms/step - loss: 33.9489 - accuracy: 0.1558 - val_loss: 2.0494 - val_accuracy: 0.1717\n",
      "Epoch 2/200\n",
      "60/60 [==============================] - 22s 370ms/step - loss: 1.8695 - accuracy: 0.2046 - val_loss: 1.7412 - val_accuracy: 0.2117\n",
      "Epoch 3/200\n",
      "60/60 [==============================] - 23s 379ms/step - loss: 1.7489 - accuracy: 0.2171 - val_loss: 1.9282 - val_accuracy: 0.2450\n",
      "Epoch 4/200\n",
      "60/60 [==============================] - 23s 385ms/step - loss: 1.7270 - accuracy: 0.2592 - val_loss: 1.6686 - val_accuracy: 0.2400\n",
      "Epoch 5/200\n",
      "60/60 [==============================] - 22s 370ms/step - loss: 1.6712 - accuracy: 0.2788 - val_loss: 1.6563 - val_accuracy: 0.2433\n",
      "Epoch 6/200\n",
      "60/60 [==============================] - 23s 384ms/step - loss: 1.6290 - accuracy: 0.2929 - val_loss: 1.7801 - val_accuracy: 0.2567\n",
      "Epoch 7/200\n",
      "60/60 [==============================] - 23s 385ms/step - loss: 1.6274 - accuracy: 0.3038 - val_loss: 1.6481 - val_accuracy: 0.3033\n",
      "Epoch 8/200\n",
      "60/60 [==============================] - 22s 373ms/step - loss: 1.5832 - accuracy: 0.3262 - val_loss: 1.6277 - val_accuracy: 0.2617\n",
      "Epoch 9/200\n",
      "60/60 [==============================] - 23s 385ms/step - loss: 1.5670 - accuracy: 0.3192 - val_loss: 1.6035 - val_accuracy: 0.3033\n",
      "Epoch 10/200\n",
      "60/60 [==============================] - 23s 384ms/step - loss: 1.5845 - accuracy: 0.3121 - val_loss: 1.5424 - val_accuracy: 0.3683\n",
      "Epoch 11/200\n",
      "60/60 [==============================] - 23s 384ms/step - loss: 1.5530 - accuracy: 0.3321 - val_loss: 1.5811 - val_accuracy: 0.2767\n",
      "Epoch 12/200\n",
      "60/60 [==============================] - 22s 373ms/step - loss: 1.5350 - accuracy: 0.3396 - val_loss: 1.4649 - val_accuracy: 0.3650\n",
      "Epoch 13/200\n",
      "60/60 [==============================] - 23s 385ms/step - loss: 1.5550 - accuracy: 0.3292 - val_loss: 1.5555 - val_accuracy: 0.3583\n",
      "Epoch 14/200\n",
      "60/60 [==============================] - 23s 384ms/step - loss: 1.5096 - accuracy: 0.3554 - val_loss: 1.6356 - val_accuracy: 0.2983\n",
      "Epoch 15/200\n",
      "60/60 [==============================] - 23s 384ms/step - loss: 1.5059 - accuracy: 0.3550 - val_loss: 1.4749 - val_accuracy: 0.3683\n",
      "Epoch 16/200\n",
      "60/60 [==============================] - 22s 372ms/step - loss: 1.5567 - accuracy: 0.3321 - val_loss: 1.6726 - val_accuracy: 0.2817\n",
      "Epoch 17/200\n",
      "60/60 [==============================] - 23s 384ms/step - loss: 1.5703 - accuracy: 0.3254 - val_loss: 1.5089 - val_accuracy: 0.3933\n",
      "Epoch 18/200\n",
      "60/60 [==============================] - 22s 373ms/step - loss: 1.5300 - accuracy: 0.3187 - val_loss: 1.5206 - val_accuracy: 0.3533\n",
      "Epoch 19/200\n",
      "60/60 [==============================] - 22s 372ms/step - loss: 1.5294 - accuracy: 0.3392 - val_loss: 1.6628 - val_accuracy: 0.3233\n",
      "Epoch 20/200\n",
      "60/60 [==============================] - 22s 373ms/step - loss: 1.5178 - accuracy: 0.3558 - val_loss: 1.5387 - val_accuracy: 0.3667\n",
      "Epoch 21/200\n",
      "60/60 [==============================] - 22s 374ms/step - loss: 1.5201 - accuracy: 0.3550 - val_loss: 1.4573 - val_accuracy: 0.3800\n",
      "Epoch 22/200\n",
      "60/60 [==============================] - 23s 385ms/step - loss: 1.4754 - accuracy: 0.3725 - val_loss: 1.5120 - val_accuracy: 0.3333\n",
      "Epoch 23/200\n",
      "60/60 [==============================] - 23s 385ms/step - loss: 1.4846 - accuracy: 0.3608 - val_loss: 1.4557 - val_accuracy: 0.3733\n",
      "Epoch 24/200\n",
      "60/60 [==============================] - 23s 385ms/step - loss: 1.5105 - accuracy: 0.3379 - val_loss: 1.5243 - val_accuracy: 0.3417\n",
      "Epoch 25/200\n",
      "60/60 [==============================] - 23s 384ms/step - loss: 1.4953 - accuracy: 0.3642 - val_loss: 1.4586 - val_accuracy: 0.3467\n",
      "Epoch 26/200\n",
      "60/60 [==============================] - 22s 372ms/step - loss: 1.4844 - accuracy: 0.3625 - val_loss: 1.5515 - val_accuracy: 0.3617\n",
      "Epoch 27/200\n",
      "60/60 [==============================] - 22s 375ms/step - loss: 1.4579 - accuracy: 0.3754 - val_loss: 1.4649 - val_accuracy: 0.3767\n",
      "Epoch 28/200\n",
      "60/60 [==============================] - 22s 373ms/step - loss: 1.4612 - accuracy: 0.3750 - val_loss: 1.6236 - val_accuracy: 0.1933\n",
      "Epoch 29/200\n",
      "60/60 [==============================] - 23s 385ms/step - loss: 1.5143 - accuracy: 0.3483 - val_loss: 1.5655 - val_accuracy: 0.3117\n",
      "Epoch 30/200\n",
      "60/60 [==============================] - 22s 374ms/step - loss: 1.4544 - accuracy: 0.3671 - val_loss: 1.4870 - val_accuracy: 0.3333\n",
      "Epoch 31/200\n",
      "60/60 [==============================] - 22s 373ms/step - loss: 1.4461 - accuracy: 0.3796 - val_loss: 1.4258 - val_accuracy: 0.4150\n",
      "Epoch 32/200\n",
      "60/60 [==============================] - 23s 385ms/step - loss: 1.3961 - accuracy: 0.4079 - val_loss: 1.4442 - val_accuracy: 0.3833\n",
      "Epoch 33/200\n",
      "60/60 [==============================] - 22s 373ms/step - loss: 1.5156 - accuracy: 0.3521 - val_loss: 1.4409 - val_accuracy: 0.4117\n",
      "Epoch 34/200\n",
      "60/60 [==============================] - 22s 374ms/step - loss: 1.4178 - accuracy: 0.4137 - val_loss: 1.3937 - val_accuracy: 0.3700\n",
      "Epoch 35/200\n",
      "60/60 [==============================] - 23s 385ms/step - loss: 1.4433 - accuracy: 0.3792 - val_loss: 1.3746 - val_accuracy: 0.4550\n",
      "Epoch 36/200\n",
      "60/60 [==============================] - 22s 373ms/step - loss: 1.4453 - accuracy: 0.3792 - val_loss: 1.3865 - val_accuracy: 0.4033\n",
      "Epoch 37/200\n",
      "60/60 [==============================] - 23s 385ms/step - loss: 1.4342 - accuracy: 0.3667 - val_loss: 1.3932 - val_accuracy: 0.3867\n",
      "Epoch 38/200\n",
      "60/60 [==============================] - 22s 373ms/step - loss: 1.4199 - accuracy: 0.3983 - val_loss: 1.4664 - val_accuracy: 0.3383\n",
      "Epoch 39/200\n",
      "60/60 [==============================] - 23s 385ms/step - loss: 1.3945 - accuracy: 0.4000 - val_loss: 1.4645 - val_accuracy: 0.3683\n",
      "Epoch 40/200\n",
      "60/60 [==============================] - 22s 373ms/step - loss: 1.4183 - accuracy: 0.3892 - val_loss: 1.5393 - val_accuracy: 0.3483\n",
      "Epoch 41/200\n",
      "60/60 [==============================] - 22s 374ms/step - loss: 1.4149 - accuracy: 0.3896 - val_loss: 1.3405 - val_accuracy: 0.4283\n",
      "Epoch 42/200\n",
      "60/60 [==============================] - 22s 373ms/step - loss: 1.3547 - accuracy: 0.4275 - val_loss: 1.3292 - val_accuracy: 0.4333\n",
      "Epoch 43/200\n",
      "60/60 [==============================] - 22s 374ms/step - loss: 1.3771 - accuracy: 0.4187 - val_loss: 1.3174 - val_accuracy: 0.4433\n",
      "Epoch 44/200\n",
      "60/60 [==============================] - 22s 374ms/step - loss: 1.3756 - accuracy: 0.3950 - val_loss: 1.3425 - val_accuracy: 0.4417\n",
      "Epoch 45/200\n",
      "60/60 [==============================] - 22s 373ms/step - loss: 1.3388 - accuracy: 0.4296 - val_loss: 1.3179 - val_accuracy: 0.4700\n",
      "Epoch 46/200\n",
      "60/60 [==============================] - 23s 384ms/step - loss: 1.3605 - accuracy: 0.4187 - val_loss: 1.3208 - val_accuracy: 0.4417\n",
      "Epoch 47/200\n",
      "60/60 [==============================] - 22s 372ms/step - loss: 1.4276 - accuracy: 0.3879 - val_loss: 1.5083 - val_accuracy: 0.3800\n",
      "Epoch 48/200\n",
      "60/60 [==============================] - 22s 374ms/step - loss: 1.3600 - accuracy: 0.4238 - val_loss: 1.3499 - val_accuracy: 0.4467\n",
      "Epoch 49/200\n",
      "60/60 [==============================] - 23s 385ms/step - loss: 1.3468 - accuracy: 0.4254 - val_loss: 1.3266 - val_accuracy: 0.4333\n",
      "Epoch 50/200\n",
      "60/60 [==============================] - 22s 372ms/step - loss: 1.3590 - accuracy: 0.4271 - val_loss: 1.4009 - val_accuracy: 0.3950\n",
      "Epoch 51/200\n",
      "60/60 [==============================] - 22s 373ms/step - loss: 1.3491 - accuracy: 0.4238 - val_loss: 1.3260 - val_accuracy: 0.4617\n",
      "Epoch 52/200\n",
      "60/60 [==============================] - 22s 374ms/step - loss: 1.3586 - accuracy: 0.4087 - val_loss: 1.3525 - val_accuracy: 0.4683\n",
      "Epoch 53/200\n",
      "60/60 [==============================] - 23s 385ms/step - loss: 1.3621 - accuracy: 0.4196 - val_loss: 1.4025 - val_accuracy: 0.3800\n",
      "Epoch 54/200\n",
      "60/60 [==============================] - 23s 384ms/step - loss: 1.3502 - accuracy: 0.4208 - val_loss: 1.4071 - val_accuracy: 0.3950\n",
      "Epoch 55/200\n",
      "60/60 [==============================] - 22s 373ms/step - loss: 1.4248 - accuracy: 0.3963 - val_loss: 1.4486 - val_accuracy: 0.4300\n",
      "Epoch 56/200\n",
      "60/60 [==============================] - 22s 374ms/step - loss: 1.3650 - accuracy: 0.4133 - val_loss: 1.4122 - val_accuracy: 0.3900\n",
      "Epoch 57/200\n",
      "60/60 [==============================] - 22s 373ms/step - loss: 1.3537 - accuracy: 0.4196 - val_loss: 1.2893 - val_accuracy: 0.4717\n",
      "Epoch 58/200\n",
      "60/60 [==============================] - 22s 373ms/step - loss: 1.6573 - accuracy: 0.3517 - val_loss: 1.6941 - val_accuracy: 0.2633\n",
      "Epoch 59/200\n",
      "60/60 [==============================] - 23s 384ms/step - loss: 1.6516 - accuracy: 0.2738 - val_loss: 1.6995 - val_accuracy: 0.2467\n",
      "Epoch 60/200\n",
      "60/60 [==============================] - 23s 384ms/step - loss: 1.5870 - accuracy: 0.3187 - val_loss: 1.5811 - val_accuracy: 0.3550\n",
      "Epoch 61/200\n",
      "60/60 [==============================] - 23s 384ms/step - loss: 1.5519 - accuracy: 0.3296 - val_loss: 1.5782 - val_accuracy: 0.3617\n",
      "Epoch 62/200\n",
      "60/60 [==============================] - 22s 373ms/step - loss: 1.5241 - accuracy: 0.3487 - val_loss: 1.5466 - val_accuracy: 0.3917\n",
      "Epoch 63/200\n",
      "60/60 [==============================] - 23s 385ms/step - loss: 1.5938 - accuracy: 0.3158 - val_loss: 1.7417 - val_accuracy: 0.2250\n",
      "Epoch 64/200\n",
      "60/60 [==============================] - 22s 374ms/step - loss: 1.5499 - accuracy: 0.3375 - val_loss: 1.5369 - val_accuracy: 0.4033\n",
      "Epoch 65/200\n",
      "60/60 [==============================] - 22s 374ms/step - loss: 1.5595 - accuracy: 0.3321 - val_loss: 1.5374 - val_accuracy: 0.3400\n",
      "Epoch 66/200\n",
      "60/60 [==============================] - 23s 385ms/step - loss: 1.5300 - accuracy: 0.3292 - val_loss: 1.6329 - val_accuracy: 0.2967\n",
      "Epoch 67/200\n",
      "60/60 [==============================] - 22s 373ms/step - loss: 1.5101 - accuracy: 0.3617 - val_loss: 1.5159 - val_accuracy: 0.2750\n",
      "Epoch 68/200\n",
      "60/60 [==============================] - 22s 373ms/step - loss: 1.4960 - accuracy: 0.3475 - val_loss: 1.4888 - val_accuracy: 0.3417\n",
      "Epoch 69/200\n",
      "60/60 [==============================] - 23s 385ms/step - loss: 1.4929 - accuracy: 0.3521 - val_loss: 1.4665 - val_accuracy: 0.3583\n",
      "Epoch 70/200\n",
      "60/60 [==============================] - 23s 384ms/step - loss: 1.5023 - accuracy: 0.3617 - val_loss: 1.5537 - val_accuracy: 0.3100\n",
      "Epoch 71/200\n",
      "60/60 [==============================] - 23s 385ms/step - loss: 1.4721 - accuracy: 0.3492 - val_loss: 1.4530 - val_accuracy: 0.3383\n",
      "Epoch 72/200\n",
      "60/60 [==============================] - 22s 373ms/step - loss: 1.5346 - accuracy: 0.3467 - val_loss: 1.5035 - val_accuracy: 0.3483\n",
      "Epoch 73/200\n",
      "60/60 [==============================] - 22s 373ms/step - loss: 1.4565 - accuracy: 0.3750 - val_loss: 1.4559 - val_accuracy: 0.3250\n",
      "Epoch 74/200\n",
      "60/60 [==============================] - 23s 385ms/step - loss: 1.4648 - accuracy: 0.3546 - val_loss: 1.4187 - val_accuracy: 0.4217\n",
      "Epoch 75/200\n",
      "60/60 [==============================] - 22s 373ms/step - loss: 1.4206 - accuracy: 0.3992 - val_loss: 1.6527 - val_accuracy: 0.2883\n",
      "Epoch 76/200\n",
      "60/60 [==============================] - 22s 373ms/step - loss: 1.4096 - accuracy: 0.3971 - val_loss: 1.5710 - val_accuracy: 0.3767\n",
      "Epoch 77/200\n",
      "60/60 [==============================] - 22s 373ms/step - loss: 1.5114 - accuracy: 0.3421 - val_loss: 1.4880 - val_accuracy: 0.3183\n",
      "Epoch 78/200\n",
      "60/60 [==============================] - 23s 385ms/step - loss: 1.4367 - accuracy: 0.3796 - val_loss: 1.3960 - val_accuracy: 0.4567\n",
      "Epoch 79/200\n",
      "60/60 [==============================] - 23s 385ms/step - loss: 1.4554 - accuracy: 0.3887 - val_loss: 1.4436 - val_accuracy: 0.3717\n",
      "Epoch 80/200\n",
      "60/60 [==============================] - 23s 385ms/step - loss: 1.4161 - accuracy: 0.3992 - val_loss: 1.4288 - val_accuracy: 0.3933\n",
      "Epoch 81/200\n",
      "60/60 [==============================] - 22s 374ms/step - loss: 1.3923 - accuracy: 0.4087 - val_loss: 1.7558 - val_accuracy: 0.2950\n",
      "Epoch 82/200\n",
      "60/60 [==============================] - 22s 373ms/step - loss: 1.4409 - accuracy: 0.3733 - val_loss: 1.4295 - val_accuracy: 0.4200\n",
      "Epoch 83/200\n",
      "60/60 [==============================] - 22s 373ms/step - loss: 1.4034 - accuracy: 0.4079 - val_loss: 1.3461 - val_accuracy: 0.4450\n",
      "Epoch 84/200\n",
      "60/60 [==============================] - 23s 385ms/step - loss: 1.4126 - accuracy: 0.4071 - val_loss: 1.5832 - val_accuracy: 0.2883\n",
      "Epoch 85/200\n",
      "60/60 [==============================] - 22s 373ms/step - loss: 1.4105 - accuracy: 0.3842 - val_loss: 1.3335 - val_accuracy: 0.4383\n",
      "Epoch 86/200\n",
      "60/60 [==============================] - 23s 385ms/step - loss: 1.4127 - accuracy: 0.4033 - val_loss: 1.3951 - val_accuracy: 0.4267\n",
      "Epoch 87/200\n",
      "60/60 [==============================] - 22s 373ms/step - loss: 1.4415 - accuracy: 0.3862 - val_loss: 1.4282 - val_accuracy: 0.3800\n",
      "Epoch 87: early stopping\n"
     ]
    }
   ],
   "source": [
    "# Fit the model\n",
    "history = resnet_model.fit(xtrain,ytrain,batch_size=40, epochs=200,validation_split=0.2, callbacks = [early_stop])#, checkpoint])"
   ]
  },
  {
   "cell_type": "code",
   "execution_count": null,
   "metadata": {
    "colab": {
     "base_uri": "https://localhost:8080/",
     "height": 435
    },
    "id": "zfcW0cWvr-9w",
    "outputId": "928240c9-62f1-4d29-ebb4-0c3c8c0a88f1"
   },
   "outputs": [
    {
     "data": {
      "image/png": "[encoded data removed]",
      "text/plain": [
       "<Figure size 1080x1080 with 2 Axes>"
      ]
     },
     "metadata": {
      "needs_background": "light"
     },
     "output_type": "display_data"
    }
   ],
   "source": [
    "acc = history.history['accuracy']\n",
    "val_acc = history.history['val_accuracy']\n",
    "loss = history.history['loss']\n",
    "val_loss = history.history['val_loss']\n",
    "\n",
    "epochs_range = range(87)\n",
    "\n",
    "plt.figure(figsize=(15, 15))\n",
    "plt.subplot(2, 2, 1)\n",
    "plt.plot(epochs_range, acc, label='Training Accuracy')\n",
    "plt.plot(epochs_range, val_acc, label='Validation Accuracy')\n",
    "plt.legend(loc='lower right')\n",
    "plt.title('Training and Validation Accuracy')\n",
    "\n",
    "plt.subplot(2, 2, 2)\n",
    "plt.plot(epochs_range, loss, label='Training Loss')\n",
    "plt.plot(epochs_range, val_loss, label='Validation Loss')\n",
    "plt.legend(loc='upper right')\n",
    "plt.title('Training and Validation Loss')\n",
    "plt.show()"
   ]
  },
  {
   "cell_type": "code",
   "execution_count": null,
   "metadata": {
    "colab": {
     "base_uri": "https://localhost:8080/",
     "height": 295
    },
    "id": "CRMc0O0Bh9-W",
    "outputId": "dc3ee310-24d4-4530-e720-3501519ddfe1"
   },
   "outputs": [
    {
     "data": {
      "image/png": "[encoded data removed]",
      "text/plain": [
       "<Figure size 432x288 with 1 Axes>"
      ]
     },
     "metadata": {
      "needs_background": "light"
     },
     "output_type": "display_data"
    }
   ],
   "source": [
    "fig1 = plt.gcf()\n",
    "plt.plot(history.history['accuracy'])\n",
    "plt.plot(history.history['val_accuracy'])\n",
    "plt.axis(ymin=0.0,ymax=1)\n",
    "plt.grid()\n",
    "plt.title('Model Accuracy')\n",
    "plt.ylabel('Accuracy')\n",
    "plt.xlabel('Epochs')\n",
    "plt.legend(['train', 'validation'])\n",
    "plt.show()"
   ]
  },
  {
   "cell_type": "code",
   "execution_count": null,
   "metadata": {
    "id": "9RPKRcMSTaYx"
   },
   "outputs": [],
   "source": []
  }
 ],
 "metadata": {
  "accelerator": "GPU",
  "colab": {
   "collapsed_sections": [],
   "name": "500 TL_ResNet152.ipynb",
   "provenance": [],
   "toc_visible": true
  },
  "hide_input": false,
  "kernelspec": {
   "display_name": "Python 3 (ipykernel)",
   "language": "python",
   "name": "python3"
  },
  "language_info": {
   "codemirror_mode": {
    "name": "ipython",
    "version": 3
   },
   "file_extension": ".py",
   "mimetype": "text/x-python",
   "name": "python",
   "nbconvert_exporter": "python",
   "pygments_lexer": "ipython3",
   "version": "3.9.10"
  },
  "toc": {
   "base_numbering": 1,
   "nav_menu": {},
   "number_sections": true,
   "sideBar": true,
   "skip_h1_title": false,
   "title_cell": "Table of Contents",
   "title_sidebar": "Contents",
   "toc_cell": false,
   "toc_position": {},
   "toc_section_display": true,
   "toc_window_display": false
  }
 },
 "nbformat": 4,
 "nbformat_minor": 1
}
